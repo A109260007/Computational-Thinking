{
  "nbformat": 4,
  "nbformat_minor": 0,
  "metadata": {
    "colab": {
      "name": "Untitled4.ipynb",
      "provenance": [],
      "authorship_tag": "ABX9TyODDsGED1j8I6tOWMejXWEx",
      "include_colab_link": true
    },
    "kernelspec": {
      "name": "python3",
      "display_name": "Python 3"
    }
  },
  "cells": [
    {
      "cell_type": "markdown",
      "metadata": {
        "id": "view-in-github",
        "colab_type": "text"
      },
      "source": [
        "<a href=\"https://colab.research.google.com/github/A109260007/Computational-Thinking/blob/master/Untitled4.ipynb\" target=\"_parent\"><img src=\"https://colab.research.google.com/assets/colab-badge.svg\" alt=\"Open In Colab\"/></a>"
      ]
    },
    {
      "cell_type": "markdown",
      "metadata": {
        "id": "rsK8ZA-NbLC9"
      },
      "source": [
        "分組"
      ]
    },
    {
      "cell_type": "code",
      "metadata": {
        "colab": {
          "base_uri": "https://localhost:8080/"
        },
        "id": "Ur8YACXKbP7O",
        "outputId": "99b6843a-40c3-4cb1-f5eb-f0d0c50e0e2e"
      },
      "source": [
        "# 商數餘數\n",
        "## Input\n",
        "seat = int(input(\"Enter a seat number? \"))\n",
        "## Process\n",
        "group = (seat - 1) // 5 + 1\n",
        "## Output\n",
        "print(\"Group is\", group)"
      ],
      "execution_count": 1,
      "outputs": [
        {
          "output_type": "stream",
          "text": [
            "Enter a seat number? 19\n",
            "Group is 4\n"
          ],
          "name": "stdout"
        }
      ]
    },
    {
      "cell_type": "code",
      "metadata": {
        "colab": {
          "base_uri": "https://localhost:8080/"
        },
        "id": "_qu8NvWcejcg",
        "outputId": "c845d194-6c3d-4a47-cd78-3f1ca383c949"
      },
      "source": [
        "# 四捨五入 無條件進位法\n",
        "## Input\n",
        "seat = int(input(\"Enter a seat number? \"))\n",
        "\n",
        "## Process\n",
        "import math\n",
        "group = math.ceil(seat/5)\n",
        "\n",
        "## Output\n",
        "print(\"Group is\", group)\n"
      ],
      "execution_count": 2,
      "outputs": [
        {
          "output_type": "stream",
          "text": [
            "Enter a seat number? 19\n",
            "Group is 4\n"
          ],
          "name": "stdout"
        }
      ]
    },
    {
      "cell_type": "code",
      "metadata": {
        "colab": {
          "base_uri": "https://localhost:8080/"
        },
        "id": "VSN1EsxVfEWI",
        "outputId": "0b9de20d-1737-4424-9931-5c2a743f1940"
      },
      "source": [
        "\n",
        "# 方法(三):看餘數,用條件句\n",
        "number = int(input(\"Enter a seat number? \"))\n",
        "if number%5 == 0:\n",
        "    print(\"Group is \", number//5)\n",
        "else:\n",
        "    print(\"Group is \", number//5 +1)"
      ],
      "execution_count": 3,
      "outputs": [
        {
          "output_type": "stream",
          "text": [
            "Enter a seat number? 19\n",
            "Group is  4\n"
          ],
          "name": "stdout"
        }
      ]
    }
  ]
}