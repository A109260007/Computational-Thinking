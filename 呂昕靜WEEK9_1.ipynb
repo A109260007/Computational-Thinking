{
  "nbformat": 4,
  "nbformat_minor": 0,
  "metadata": {
    "colab": {
      "name": "呂昕靜WEEK9-1",
      "provenance": [],
      "authorship_tag": "ABX9TyM4RYB7c6po/oaAySByfOvN",
      "include_colab_link": true
    },
    "kernelspec": {
      "name": "python3",
      "display_name": "Python 3"
    }
  },
  "cells": [
    {
      "cell_type": "markdown",
      "metadata": {
        "id": "view-in-github",
        "colab_type": "text"
      },
      "source": [
        "<a href=\"https://colab.research.google.com/github/A109260007/Computational-Thinking/blob/master/%E5%91%82%E6%98%95%E9%9D%9CWEEK9_1.ipynb\" target=\"_parent\"><img src=\"https://colab.research.google.com/assets/colab-badge.svg\" alt=\"Open In Colab\"/></a>"
      ]
    },
    {
      "cell_type": "code",
      "metadata": {
        "id": "RaAO60CLaihf",
        "outputId": "e18155d5-de38-453e-c439-3689ba90b78a",
        "colab": {
          "base_uri": "https://localhost:8080/"
        }
      },
      "source": [
        "x = 2\n",
        "y = 5\n",
        "print(x + y)\n",
        "print(x - y)\n",
        "print(x * y)\n",
        "print(x / y)\n",
        "print(x //  y)\n",
        "print(x % y)\n",
        "print(x ** y)"
      ],
      "execution_count": 1,
      "outputs": [
        {
          "output_type": "stream",
          "text": [
            "7\n",
            "-3\n",
            "10\n",
            "0.4\n",
            "0\n",
            "2\n",
            "32\n"
          ],
          "name": "stdout"
        }
      ]
    },
    {
      "cell_type": "markdown",
      "metadata": {
        "id": "WGkSpQHpmxX2"
      },
      "source": [
        "1. # 標準輸入輸出\n",
        "2. ## input()\n",
        "3. ## print()"
      ]
    },
    {
      "cell_type": "code",
      "metadata": {
        "id": "SaSV9qemaoEe",
        "outputId": "f26e68d8-6431-4fd2-990b-99c9d8841664",
        "colab": {
          "base_uri": "https://localhost:8080/",
          "height": 52
        }
      },
      "source": [
        "input()"
      ],
      "execution_count": 2,
      "outputs": [
        {
          "output_type": "stream",
          "text": [
            "3\n"
          ],
          "name": "stdout"
        },
        {
          "output_type": "execute_result",
          "data": {
            "application/vnd.google.colaboratory.intrinsic+json": {
              "type": "string"
            },
            "text/plain": [
              "'3'"
            ]
          },
          "metadata": {
            "tags": []
          },
          "execution_count": 2
        }
      ]
    },
    {
      "cell_type": "code",
      "metadata": {
        "id": "XFSWhIYLll0Q",
        "outputId": "d1564a69-aeab-4032-abc0-47742a44460c",
        "colab": {
          "base_uri": "https://localhost:8080/",
          "height": 52
        }
      },
      "source": [
        "input('請輸入數字')"
      ],
      "execution_count": 3,
      "outputs": [
        {
          "output_type": "stream",
          "text": [
            "請輸入數字3\n"
          ],
          "name": "stdout"
        },
        {
          "output_type": "execute_result",
          "data": {
            "application/vnd.google.colaboratory.intrinsic+json": {
              "type": "string"
            },
            "text/plain": [
              "'3'"
            ]
          },
          "metadata": {
            "tags": []
          },
          "execution_count": 3
        }
      ]
    },
    {
      "cell_type": "code",
      "metadata": {
        "id": "JIrZoHYqlo22",
        "outputId": "1455f56f-50de-4436-b84a-0140b954d23f",
        "colab": {
          "base_uri": "https://localhost:8080/"
        }
      },
      "source": [
        "x = print(3)"
      ],
      "execution_count": 4,
      "outputs": [
        {
          "output_type": "stream",
          "text": [
            "3\n"
          ],
          "name": "stdout"
        }
      ]
    },
    {
      "cell_type": "code",
      "metadata": {
        "id": "Qo7YMfsMlr7I",
        "outputId": "614459ba-3748-49c0-975e-1479548cb80c",
        "colab": {
          "base_uri": "https://localhost:8080/"
        }
      },
      "source": [
        "x= 3\n",
        "print(x)"
      ],
      "execution_count": 10,
      "outputs": [
        {
          "output_type": "stream",
          "text": [
            "3\n"
          ],
          "name": "stdout"
        }
      ]
    },
    {
      "cell_type": "code",
      "metadata": {
        "id": "y1Rm_lfvlt6X",
        "outputId": "f2f8d313-aef3-4830-e44b-99f759d02c10",
        "colab": {
          "base_uri": "https://localhost:8080/"
        }
      },
      "source": [
        "print(x, 2, 'python')"
      ],
      "execution_count": 11,
      "outputs": [
        {
          "output_type": "stream",
          "text": [
            "3 2 python\n"
          ],
          "name": "stdout"
        }
      ]
    },
    {
      "cell_type": "code",
      "metadata": {
        "id": "sG_eyIc6lu9X",
        "outputId": "35c07a2a-177b-4eb8-b10d-82924f1b415f",
        "colab": {
          "base_uri": "https://localhost:8080/"
        }
      },
      "source": [
        "clothes = int(input('Enter the price of the clothes'))\n",
        "trousers = int(input('Enter the price of the trousers'))\n",
        "vests = int(input('Enter the price of the vests'))\n",
        "\n",
        "Total = clothes*300 + trousers*350 + vests*400\n",
        "print(\"總金額為\", Total)"
      ],
      "execution_count": 8,
      "outputs": [
        {
          "output_type": "stream",
          "text": [
            "Enter the price of the clothes5\n",
            "Enter the price of the trousers5\n",
            "Enter the price of the vests5\n",
            "總金額為 5250\n"
          ],
          "name": "stdout"
        }
      ]
    }
  ]
}