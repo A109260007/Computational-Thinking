{
  "nbformat": 4,
  "nbformat_minor": 0,
  "metadata": {
    "colab": {
      "name": "Untitled5.ipynb",
      "provenance": [],
      "authorship_tag": "ABX9TyNNY8HAjZPJMUKBKch1a79T",
      "include_colab_link": true
    },
    "kernelspec": {
      "name": "python3",
      "display_name": "Python 3"
    }
  },
  "cells": [
    {
      "cell_type": "markdown",
      "metadata": {
        "id": "view-in-github",
        "colab_type": "text"
      },
      "source": [
        "<a href=\"https://colab.research.google.com/github/A109260007/Computational-Thinking/blob/master/%E5%91%82%E6%98%95%E9%9D%9Cweek11.ipynb\" target=\"_parent\"><img src=\"https://colab.research.google.com/assets/colab-badge.svg\" alt=\"Open In Colab\"/></a>"
      ]
    },
    {
      "cell_type": "code",
      "metadata": {
        "id": "9xBMN9PstA7v"
      },
      "source": [
        "# chatbot introdution\n",
        "print('Hello. I am Zyxo 64 . I am a chatbot')\n",
        "print('I like animals and I love to talk about food')\n",
        "name = input('what is your name?;')\n",
        "print('Hello',name, ',Nice to meet you')\n"
      ],
      "execution_count": null,
      "outputs": []
    },
    {
      "cell_type": "code",
      "metadata": {
        "id": "pg1qTmOvtQIM"
      },
      "source": [
        "#get your information\n",
        "year=input('I am not very good at dates.What \\ is the year?:')\n",
        "Print('Yes,I think that is correct.Thanks!')"
      ],
      "execution_count": null,
      "outputs": []
    },
    {
      "cell_type": "code",
      "metadata": {
        "id": "aGpexXtitWdc"
      },
      "source": [
        "# ask user to guess age\n",
        "myage = input('Can you guess my age? - enter a \\ number: ')\n",
        "print('Yes you are right. I am',myage)"
      ],
      "execution_count": null,
      "outputs": []
    },
    {
      "cell_type": "code",
      "metadata": {
        "id": "bVY0nTHKtcZW"
      },
      "source": [
        "# do math to calculate whev chatbot will be 100\n",
        "myage = int(myage)\n",
        "nyeaes = 100 - myage\n",
        "print('I will be 100 in', nyears, 'years')\n",
        "print('That will be the year', int(year) + \\nyears)"
      ],
      "execution_count": null,
      "outputs": []
    },
    {
      "cell_type": "code",
      "metadata": {
        "id": "w3IJ7rFatnOh"
      },
      "source": [
        "# food conversation\n",
        "print('I love chocolate and I also like trying out new kinds of food')\n",
        "food=input('How about you?What is your favorite food:')\n",
        "print('I like',food,'too.')\n",
        "question='How often do you eat'+food+'?:'\n",
        "howoften=input(question)\n",
        "print('interesting.I wonder if that is goodfor your health')"
      ],
      "execution_count": null,
      "outputs": []
    },
    {
      "cell_type": "code",
      "metadata": {
        "id": "i3-MUQxettk_"
      },
      "source": [
        ""
      ],
      "execution_count": null,
      "outputs": []
    },
    {
      "cell_type": "code",
      "metadata": {
        "id": "BQ1aFXvht1k6"
      },
      "source": [
        "# conversation about feelings\n",
        "feeling = input('how are you feelings today?: ')\n",
        "print('why are you feeling', feeling, 'now?')\n",
        "reason = input('please tell me: ')\n",
        "print('i understand. thanks for sharing')\n"
      ],
      "execution_count": null,
      "outputs": []
    },
    {
      "cell_type": "code",
      "metadata": {
        "colab": {
          "base_uri": "https://localhost:8080/",
          "height": 233
        },
        "id": "ZjG8EUB6t7rc",
        "outputId": "3ceacbd2-6f1f-4be5-ebb1-0ad595637c6b"
      },
      "source": [
        "# goodbye\n",
        "print('It has been a long day')\n",
        "print('I am too tried to talk.We can chat again later')\n",
        "print('Goodbye',name,'I liked chatting with you'"
      ],
      "execution_count": 2,
      "outputs": [
        {
          "output_type": "stream",
          "text": [
            "It has been a long day\n",
            "I am too tried to talk.We can chat again later\n"
          ],
          "name": "stdout"
        },
        {
          "output_type": "error",
          "ename": "NameError",
          "evalue": "ignored",
          "traceback": [
            "\u001b[0;31m---------------------------------------------------------------------------\u001b[0m",
            "\u001b[0;31mNameError\u001b[0m                                 Traceback (most recent call last)",
            "\u001b[0;32m<ipython-input-2-3ecc5c3d0b9e>\u001b[0m in \u001b[0;36m<module>\u001b[0;34m()\u001b[0m\n\u001b[1;32m      2\u001b[0m \u001b[0mprint\u001b[0m\u001b[0;34m(\u001b[0m\u001b[0;34m'It has been a long day'\u001b[0m\u001b[0;34m)\u001b[0m\u001b[0;34m\u001b[0m\u001b[0;34m\u001b[0m\u001b[0m\n\u001b[1;32m      3\u001b[0m \u001b[0mprint\u001b[0m\u001b[0;34m(\u001b[0m\u001b[0;34m'I am too tried to talk.We can chat again later'\u001b[0m\u001b[0;34m)\u001b[0m\u001b[0;34m\u001b[0m\u001b[0;34m\u001b[0m\u001b[0m\n\u001b[0;32m----> 4\u001b[0;31m \u001b[0mprint\u001b[0m\u001b[0;34m(\u001b[0m\u001b[0;34m'Goodbye'\u001b[0m\u001b[0;34m,\u001b[0m\u001b[0mname\u001b[0m\u001b[0;34m,\u001b[0m\u001b[0;34m'I liked chatting with you'\u001b[0m\u001b[0;34m)\u001b[0m\u001b[0;34m\u001b[0m\u001b[0;34m\u001b[0m\u001b[0m\n\u001b[0m",
            "\u001b[0;31mNameError\u001b[0m: name 'name' is not defined"
          ]
        }
      ]
    }
  ]
}